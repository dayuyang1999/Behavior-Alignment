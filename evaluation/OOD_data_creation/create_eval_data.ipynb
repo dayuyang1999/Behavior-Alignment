{
 "cells": [
  {
   "cell_type": "code",
   "execution_count": 1,
   "metadata": {},
   "outputs": [],
   "source": [
    "import pandas as pd"
   ]
  },
  {
   "cell_type": "code",
   "execution_count": 24,
   "metadata": {},
   "outputs": [],
   "source": [
    "# files contains human annotated data as ground truth\n",
    "annotation_dir = \"human_annotation.csv\"\n",
    "annotated_data = pd.read_csv(annotation_dir)"
   ]
  },
  {
   "cell_type": "markdown",
   "metadata": {},
   "source": [
    "# Filter out meaningless responses"
   ]
  },
  {
   "cell_type": "code",
   "execution_count": 27,
   "metadata": {},
   "outputs": [],
   "source": [
    "meaningless_lst = ['goodbye', 'hi', 'yes', 'ok', 'lol', 'hello', 'goodbye', 'good bye', 'thanks', 'thank you']\n",
    "                "
   ]
  },
  {
   "cell_type": "code",
   "execution_count": 28,
   "metadata": {},
   "outputs": [],
   "source": [
    "df = annotated_data"
   ]
  },
  {
   "cell_type": "code",
   "execution_count": 29,
   "metadata": {},
   "outputs": [],
   "source": [
    "# 1. Drop 'Unnamed: 0' column\n",
    "if 'Unnamed: 0' in df.columns:\n",
    "    df = df.drop(columns=['Unnamed: 0'])\n",
    "\n",
    "# 2. Drop rows based on 'recommend_sentence' condition\n",
    "def filter_sentences(sentence):\n",
    "    for word in meaningless_lst:\n",
    "        sentence = sentence.lower().replace(word, '')\n",
    "    return len(sentence.strip()) >= 10\n",
    "\n",
    "#df = df[df['recommend_sentence'].apply(filter_sentences)]\n"
   ]
  },
  {
   "cell_type": "code",
   "execution_count": 30,
   "metadata": {},
   "outputs": [],
   "source": [
    "clean_df = df[df['annotation'] == 1].copy()\n",
    "\n",
    "# drop annotation column\n",
    "clean_df.drop(columns=['annotation', 'type'], inplace=True)"
   ]
  },
  {
   "cell_type": "code",
   "execution_count": 31,
   "metadata": {},
   "outputs": [],
   "source": [
    "df = clean_df"
   ]
  },
  {
   "cell_type": "markdown",
   "metadata": {},
   "source": [
    "# create eval samples"
   ]
  },
  {
   "cell_type": "code",
   "execution_count": 32,
   "metadata": {},
   "outputs": [],
   "source": [
    "import pandas as pd\n",
    "import itertools\n",
    "import json\n",
    "import random\n"
   ]
  },
  {
   "cell_type": "code",
   "execution_count": 33,
   "metadata": {},
   "outputs": [],
   "source": [
    "\n",
    "# Sample dataframe\n",
    "# df = pd.DataFrame({\n",
    "#     'recommend_sentence': ['sentence1', 'sentence2', 'sentence3', ...],\n",
    "#     'labels': [0, 1, 2, ...]\n",
    "# })\n",
    "\n",
    "# Step 1: Get positive samples\n",
    "positive_samples = []\n",
    "unique_labels = df['labels'].unique()\n",
    "\n",
    "for label in unique_labels:\n",
    "    filtered_df = df[df['labels'] == label]\n",
    "    # Create all possible combinations of two rows\n",
    "    pairs = list(itertools.combinations(filtered_df['recommend_sentence'], 2))\n",
    "    positive_samples.extend(pairs)\n",
    "\n",
    "# Step 2: Convert positive samples to required format\n",
    "positive_samples_json = [{'text': f\"{pair[0]} [SEP] {pair[1]}\", 'label': 1} for pair in positive_samples]\n",
    "\n",
    "# Step 3: Create negative samples\n",
    "negative_samples = []\n",
    "\n",
    "while len(negative_samples) < len(positive_samples):\n",
    "    row1, row2 = df.sample(2).values\n",
    "    if row1[1] != row2[1]:  # Ensure they have different labels\n",
    "        negative_samples.append((row1[0], row2[0]))\n",
    "\n",
    "# Step 4: Convert negative samples to required format\n",
    "negative_samples_json = [{'text': f\"{pair[0]} [SEP] {pair[1]}\", 'label': 0} for pair in negative_samples]\n",
    "\n",
    "# Combine positive and negative samples\n",
    "final_dataset = positive_samples_json + negative_samples_json\n",
    "\n",
    "# Shuffle the dataset to mix positive and negative samples\n",
    "random.shuffle(final_dataset)\n",
    "\n",
    "\n"
   ]
  },
  {
   "cell_type": "code",
   "execution_count": 34,
   "metadata": {},
   "outputs": [
    {
     "name": "stdout",
     "output_type": "stream",
     "text": [
      "42006\n"
     ]
    }
   ],
   "source": [
    "# Save the dataset\n",
    "with open(\"redial_eval_dataset.json\", 'w') as f:\n",
    "    json.dump(final_dataset, f)\n",
    "print(\"sample numbers = \", len(final_dataset))"
   ]
  },
  {
   "cell_type": "code",
   "execution_count": null,
   "metadata": {},
   "outputs": [],
   "source": []
  },
  {
   "cell_type": "code",
   "execution_count": null,
   "metadata": {},
   "outputs": [],
   "source": []
  }
 ],
 "metadata": {
  "kernelspec": {
   "display_name": "llm_1",
   "language": "python",
   "name": "python3"
  },
  "language_info": {
   "codemirror_mode": {
    "name": "ipython",
    "version": 3
   },
   "file_extension": ".py",
   "mimetype": "text/x-python",
   "name": "python",
   "nbconvert_exporter": "python",
   "pygments_lexer": "ipython3",
   "version": "3.9.16"
  },
  "orig_nbformat": 4
 },
 "nbformat": 4,
 "nbformat_minor": 2
}
