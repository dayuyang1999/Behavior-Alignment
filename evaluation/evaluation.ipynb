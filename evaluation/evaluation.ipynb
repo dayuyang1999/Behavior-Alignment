{
 "cells": [
  {
   "cell_type": "code",
   "execution_count": 3,
   "metadata": {},
   "outputs": [],
   "source": [
    "import pandas as pd\n",
    "from sklearn.metrics import accuracy_score, cohen_kappa_score\n",
    "\n",
    "def evaluate_predictions(csv_file_path):\n",
    "    \"\"\"\n",
    "    Load a CSV file, calculate prediction accuracy and Cohen's Kappa, and print them.\n",
    "    \n",
    "    Parameters:\n",
    "    csv_file_path (str): The file path to the CSV file containing the data.\n",
    "    \n",
    "    The CSV file is expected to have the following columns:\n",
    "        - Input Text Part 1\n",
    "        - Input Text Part 2\n",
    "        - Ground Truth Label\n",
    "        - Model Prediction\n",
    "        \n",
    "    Ground Truth Label and Model Prediction columns should contain binary values (0 or 1).\n",
    "    \"\"\"\n",
    "\n",
    "    # Step 1: Load the CSV file into a DataFrame\n",
    "    df = pd.read_csv(csv_file_path)\n",
    "\n",
    "    # Ensure the necessary columns are present in the DataFrame\n",
    "    required_columns = ['Ground Truth Label', 'Model Prediction']\n",
    "    for column in required_columns:\n",
    "        if column not in df.columns:\n",
    "            raise ValueError(f\"Missing required column: {column}\")\n",
    "\n",
    "    # Step 2: Extract the Ground Truth Label and Model Prediction columns\n",
    "    ground_truth = df['Ground Truth Label']\n",
    "    model_prediction = df['Model Prediction']\n",
    "\n",
    "    # Step 3: Calculate the prediction accuracy\n",
    "    accuracy = accuracy_score(ground_truth, model_prediction)\n",
    "\n",
    "    # Step 4: Calculate Cohen's Kappa\n",
    "    kappa = cohen_kappa_score(ground_truth, model_prediction)\n",
    "\n",
    "    # Step 5: Print the results in a human-readable format\n",
    "    print(\"Model Evaluation Metrics:\")\n",
    "    print(f\"  - Prediction Accuracy: {accuracy:.3f}\")\n",
    "    print(f\"  - Cohen's Kappa: {kappa:.3f}\")\n"
   ]
  },
  {
   "cell_type": "code",
   "execution_count": 7,
   "metadata": {},
   "outputs": [
    {
     "name": "stdout",
     "output_type": "stream",
     "text": [
      "Model Evaluation Metrics:\n",
      "  - Prediction Accuracy: 0.782\n",
      "  - Cohen's Kappa: 0.563\n"
     ]
    }
   ],
   "source": [
    "origin_file_dir = \"OOD_samples/redial_evaluation_results_original.csv\"\n",
    "evaluate_predictions(origin_file_dir)"
   ]
  },
  {
   "cell_type": "code",
   "execution_count": 9,
   "metadata": {},
   "outputs": [
    {
     "name": "stdout",
     "output_type": "stream",
     "text": [
      "Model Evaluation Metrics:\n",
      "  - Prediction Accuracy: 0.932\n",
      "  - Cohen's Kappa: 0.865\n"
     ]
    }
   ],
   "source": [
    "mix_file_dir = \"OOD_samples/redial_evaluation_results_mixedhard.csv\"\n",
    "evaluate_predictions(mix_file_dir)"
   ]
  },
  {
   "cell_type": "code",
   "execution_count": null,
   "metadata": {},
   "outputs": [],
   "source": []
  },
  {
   "cell_type": "code",
   "execution_count": null,
   "metadata": {},
   "outputs": [],
   "source": []
  }
 ],
 "metadata": {
  "kernelspec": {
   "display_name": "Python 3",
   "language": "python",
   "name": "python3"
  },
  "language_info": {
   "codemirror_mode": {
    "name": "ipython",
    "version": 3
   },
   "file_extension": ".py",
   "mimetype": "text/x-python",
   "name": "python",
   "nbconvert_exporter": "python",
   "pygments_lexer": "ipython3",
   "version": "3.9.12"
  }
 },
 "nbformat": 4,
 "nbformat_minor": 2
}
